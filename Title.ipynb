{
 "cells": [
  {
   "cell_type": "code",
   "execution_count": 1,
   "metadata": {
    "collapsed": true
   },
   "outputs": [],
   "source": [
    "##查找最相似的人"
   ]
  },
  {
   "cell_type": "code",
   "execution_count": 2,
   "metadata": {
    "collapsed": false
   },
   "outputs": [],
   "source": [
    "from recommendations import critics"
   ]
  },
  {
   "cell_type": "code",
   "execution_count": 3,
   "metadata": {
    "collapsed": true
   },
   "outputs": [],
   "source": [
    "# Returns the Pearson correlation coefficient for p1 and p2\n",
    "from math import sqrt\n",
    "def sim_pearson(prefs,p1,p2):\n",
    "    # Get the list of mutually rated items\n",
    "    si={}\n",
    "    for item in prefs[p1]: \n",
    "        if item in prefs[p2]: si[item]=1\n",
    "\n",
    "    # if they are no ratings in common, return 0\n",
    "    if len(si)==0: return 0\n",
    "\n",
    "    # Sum calculations\n",
    "    n=len(si)\n",
    "  \n",
    "    # Sums of all the preferences\n",
    "    sum1=sum([prefs[p1][it] for it in si])\n",
    "    sum2=sum([prefs[p2][it] for it in si])\n",
    "  \n",
    "    # Sums of the squares\n",
    "    sum1Sq=sum([pow(prefs[p1][it],2) for it in si])\n",
    "    sum2Sq=sum([pow(prefs[p2][it],2) for it in si])\t\n",
    "  \n",
    "    # Sum of the products\n",
    "    pSum=sum([prefs[p1][it]*prefs[p2][it] for it in si])\n",
    "  \n",
    "    # Calculate r (Pearson score)\n",
    "    num=pSum-(sum1*sum2/n)\n",
    "    den=sqrt((sum1Sq-pow(sum1,2)/n)*(sum2Sq-pow(sum2,2)/n))\n",
    "    if den==0: return 0\n",
    "\n",
    "    r=num/den\n",
    "\n",
    "    return r"
   ]
  },
  {
   "cell_type": "code",
   "execution_count": 4,
   "metadata": {
    "collapsed": false
   },
   "outputs": [
    {
     "data": {
      "text/plain": [
       "0.39605901719066977"
      ]
     },
     "execution_count": 4,
     "metadata": {},
     "output_type": "execute_result"
    }
   ],
   "source": [
    "sim_pearson(critics,\"Lisa Rose\",\"Gene Seymour\")"
   ]
  },
  {
   "cell_type": "code",
   "execution_count": 5,
   "metadata": {
    "collapsed": false
   },
   "outputs": [],
   "source": [
    "def topMatches(prefs,person,n=5,similarity = sim_pearson):\n",
    "    scores = [(similarity(prefs,person,other),other) for other in prefs if other != person]\n",
    "    \n",
    "    scores.sort()\n",
    "    scores.reverse()\n",
    "    return scores[0:n]\n",
    "\n",
    "#两个人之间的相似度"
   ]
  },
  {
   "cell_type": "code",
   "execution_count": 6,
   "metadata": {
    "collapsed": false
   },
   "outputs": [
    {
     "data": {
      "text/plain": [
       "[(0.9912407071619299, 'Lisa Rose'),\n",
       " (0.9244734516419049, 'Mick LaSalle'),\n",
       " (0.8934051474415647, 'Claudia Puig')]"
      ]
     },
     "execution_count": 6,
     "metadata": {},
     "output_type": "execute_result"
    }
   ],
   "source": [
    "topMatches(critics,\"Toby\",n = 3)"
   ]
  },
  {
   "cell_type": "code",
   "execution_count": 7,
   "metadata": {
    "collapsed": true
   },
   "outputs": [],
   "source": [
    "##推荐物品"
   ]
  },
  {
   "cell_type": "code",
   "execution_count": 8,
   "metadata": {
    "collapsed": false
   },
   "outputs": [
    {
     "name": "stdout",
     "output_type": "stream",
     "text": [
      "{'Just My Luck': 3.1903657320769114, 'The Night Listener': 3.853214712436781, 'Lady in the Water': 2.9598095649952167}\n",
      "-------------------------------------------------------------\n",
      "{'Just My Luck': 8.074754105841562, 'The Night Listener': 12.89975185847269, 'Lady in the Water': 8.383808341404684}\n"
     ]
    },
    {
     "data": {
      "text/plain": [
       "[(3.3477895267131013, 'The Night Listener'),\n",
       " (2.8325499182641614, 'Lady in the Water'),\n",
       " (2.5309807037655645, 'Just My Luck')]"
      ]
     },
     "execution_count": 8,
     "metadata": {},
     "output_type": "execute_result"
    }
   ],
   "source": [
    "def getRecommendations(prefs,person,similarity = sim_pearson):\n",
    "    totals = {}\n",
    "    simSums = {}\n",
    "    for other in prefs:\n",
    "        #不要和自己做比较\n",
    "        if other == person:\n",
    "            continue\n",
    "        sim = similarity(prefs,person,other)\n",
    "        #print(sim) #每个人的相似度\n",
    "        if sim<=0:\n",
    "            continue\n",
    "        for item in prefs[other]:\n",
    "            #只对自己没有看过的影片进行评价\n",
    "            if item not in prefs[person] or prefs[person][item] == 0:\n",
    "                totals.setdefault(item,0.00)\n",
    "                totals[item] += prefs[other][item] * sim\n",
    "                simSums.setdefault(item,0.00)\n",
    "                simSums[item] += sim\n",
    "    \n",
    "    print(simSums)\n",
    "    print(\"-------------------------------------------------------------\")\n",
    "    print(totals)\n",
    "    \n",
    "    rankings = [(total/simSums[item],item) for item,total in totals.items()]\n",
    "    rankings.sort()\n",
    "    rankings.reverse()\n",
    "    return rankings\n",
    "                \n",
    "getRecommendations(critics,\"Toby\")"
   ]
  },
  {
   "cell_type": "code",
   "execution_count": 15,
   "metadata": {
    "collapsed": true
   },
   "outputs": [],
   "source": [
    "def transformPrefs(prefs):\n",
    "    result = {}\n",
    "    for person in prefs:\n",
    "        for item in prefs[person]:\n",
    "            result.setdefault(item,{})\n",
    "            \n",
    "            result[item][person] = prefs[person][item]\n",
    "    return result"
   ]
  },
  {
   "cell_type": "code",
   "execution_count": 17,
   "metadata": {
    "collapsed": false
   },
   "outputs": [],
   "source": [
    "movies = transformPrefs(critics)"
   ]
  },
  {
   "cell_type": "code",
   "execution_count": 20,
   "metadata": {
    "collapsed": false
   },
   "outputs": [
    {
     "data": {
      "text/plain": [
       "{'Just My Luck': {'Claudia Puig': 3.0,\n",
       "  'Gene Seymour': 1.5,\n",
       "  'Lisa Rose': 3.0,\n",
       "  'Mick LaSalle': 2.0},\n",
       " 'Lady in the Water': {'Gene Seymour': 3.0,\n",
       "  'Jack Matthews': 3.0,\n",
       "  'Lisa Rose': 2.5,\n",
       "  'Michael Phillips': 2.5,\n",
       "  'Mick LaSalle': 3.0},\n",
       " 'Snakes on a Plane': {'Claudia Puig': 3.5,\n",
       "  'Gene Seymour': 3.5,\n",
       "  'Jack Matthews': 4.0,\n",
       "  'Lisa Rose': 3.5,\n",
       "  'Michael Phillips': 3.0,\n",
       "  'Mick LaSalle': 4.0,\n",
       "  'Toby': 4.5},\n",
       " 'Superman Returns': {'Claudia Puig': 4.0,\n",
       "  'Gene Seymour': 5.0,\n",
       "  'Jack Matthews': 5.0,\n",
       "  'Lisa Rose': 3.5,\n",
       "  'Michael Phillips': 3.5,\n",
       "  'Mick LaSalle': 3.0,\n",
       "  'Toby': 4.0},\n",
       " 'The Night Listener': {'Claudia Puig': 4.5,\n",
       "  'Gene Seymour': 3.0,\n",
       "  'Jack Matthews': 3.0,\n",
       "  'Lisa Rose': 3.0,\n",
       "  'Michael Phillips': 4.0,\n",
       "  'Mick LaSalle': 3.0},\n",
       " 'You, Me and Dupree': {'Claudia Puig': 2.5,\n",
       "  'Gene Seymour': 3.5,\n",
       "  'Jack Matthews': 3.5,\n",
       "  'Lisa Rose': 2.5,\n",
       "  'Mick LaSalle': 2.0,\n",
       "  'Toby': 1.0}}"
      ]
     },
     "execution_count": 20,
     "metadata": {},
     "output_type": "execute_result"
    }
   ],
   "source": [
    "movies"
   ]
  },
  {
   "cell_type": "code",
   "execution_count": 18,
   "metadata": {
    "collapsed": false
   },
   "outputs": [
    {
     "data": {
      "text/plain": [
       "[(0.6579516949597695, 'You, Me and Dupree'),\n",
       " (0.4879500364742689, 'Lady in the Water'),\n",
       " (0.11180339887498941, 'Snakes on a Plane'),\n",
       " (-0.1798471947990544, 'The Night Listener'),\n",
       " (-0.42289003161103106, 'Just My Luck')]"
      ]
     },
     "execution_count": 18,
     "metadata": {},
     "output_type": "execute_result"
    }
   ],
   "source": [
    "topMatches(movies,'Superman Returns')"
   ]
  },
  {
   "cell_type": "code",
   "execution_count": 19,
   "metadata": {
    "collapsed": true
   },
   "outputs": [],
   "source": [
    "def topMatches(prefs,person,n=5,similarity = sim_pearson):\n",
    "    scores = [(similarity(prefs,person,other),other) for other in prefs if other != person]\n",
    "    \n",
    "    scores.sort()\n",
    "    scores.reverse()\n",
    "    return scores[0:n]\n",
    "\n",
    "#两个objects之间的相似度"
   ]
  },
  {
   "cell_type": "code",
   "execution_count": 30,
   "metadata": {
    "collapsed": true
   },
   "outputs": [],
   "source": [
    "def calculateSimilarItems(prefs,n = 10):\n",
    "    result = {}\n",
    "    itemPrefs = transformPrefs(prefs)\n",
    "    c = 0\n",
    "    for item in itemPrefs:\n",
    "        #更新状态变量\n",
    "        c += 1\n",
    "        if c % 100:\n",
    "            print(\"%d / %d\" % (c,len(itemPrefs)))\n",
    "        scores = topMatches(itemPrefs,item,n=n,similarity = sim_pearson)\n",
    "        result[item] = scores\n",
    "    return result"
   ]
  },
  {
   "cell_type": "code",
   "execution_count": 31,
   "metadata": {
    "collapsed": false
   },
   "outputs": [
    {
     "name": "stdout",
     "output_type": "stream",
     "text": [
      "1 / 6\n",
      "2 / 6\n",
      "3 / 6\n",
      "4 / 6\n",
      "5 / 6\n",
      "6 / 6\n"
     ]
    },
    {
     "data": {
      "text/plain": [
       "{'Just My Luck': [(0.5555555555555556, 'The Night Listener'),\n",
       "  (-0.3333333333333333, 'Snakes on a Plane'),\n",
       "  (-0.42289003161103106, 'Superman Returns'),\n",
       "  (-0.4856618642571827, 'You, Me and Dupree'),\n",
       "  (-0.9449111825230676, 'Lady in the Water')],\n",
       " 'Lady in the Water': [(0.7637626158259785, 'Snakes on a Plane'),\n",
       "  (0.4879500364742689, 'Superman Returns'),\n",
       "  (0.3333333333333333, 'You, Me and Dupree'),\n",
       "  (-0.6123724356957927, 'The Night Listener'),\n",
       "  (-0.9449111825230676, 'Just My Luck')],\n",
       " 'Snakes on a Plane': [(0.7637626158259785, 'Lady in the Water'),\n",
       "  (0.11180339887498941, 'Superman Returns'),\n",
       "  (-0.3333333333333333, 'Just My Luck'),\n",
       "  (-0.5663521139548527, 'The Night Listener'),\n",
       "  (-0.6454972243679047, 'You, Me and Dupree')],\n",
       " 'Superman Returns': [(0.6579516949597695, 'You, Me and Dupree'),\n",
       "  (0.4879500364742689, 'Lady in the Water'),\n",
       "  (0.11180339887498941, 'Snakes on a Plane'),\n",
       "  (-0.1798471947990544, 'The Night Listener'),\n",
       "  (-0.42289003161103106, 'Just My Luck')],\n",
       " 'The Night Listener': [(0.5555555555555556, 'Just My Luck'),\n",
       "  (-0.1798471947990544, 'Superman Returns'),\n",
       "  (-0.250000000000002, 'You, Me and Dupree'),\n",
       "  (-0.5663521139548527, 'Snakes on a Plane'),\n",
       "  (-0.6123724356957927, 'Lady in the Water')],\n",
       " 'You, Me and Dupree': [(0.6579516949597695, 'Superman Returns'),\n",
       "  (0.3333333333333333, 'Lady in the Water'),\n",
       "  (-0.250000000000002, 'The Night Listener'),\n",
       "  (-0.4856618642571827, 'Just My Luck'),\n",
       "  (-0.6454972243679047, 'Snakes on a Plane')]}"
      ]
     },
     "execution_count": 31,
     "metadata": {},
     "output_type": "execute_result"
    }
   ],
   "source": [
    "calculateSimilarItems(critics)"
   ]
  },
  {
   "cell_type": "code",
   "execution_count": null,
   "metadata": {
    "collapsed": true
   },
   "outputs": [],
   "source": []
  }
 ],
 "metadata": {
  "kernelspec": {
   "display_name": "Python [default]",
   "language": "python",
   "name": "python3"
  },
  "language_info": {
   "codemirror_mode": {
    "name": "ipython",
    "version": 3
   },
   "file_extension": ".py",
   "mimetype": "text/x-python",
   "name": "python",
   "nbconvert_exporter": "python",
   "pygments_lexer": "ipython3",
   "version": "3.5.2"
  }
 },
 "nbformat": 4,
 "nbformat_minor": 2
}
