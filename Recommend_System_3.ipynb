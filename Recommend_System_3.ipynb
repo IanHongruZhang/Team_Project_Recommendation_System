{
 "cells": [
  {
   "cell_type": "code",
   "execution_count": null,
   "metadata": {
    "collapsed": false
   },
   "outputs": [],
   "source": [
    "import pandas as pd \n",
    "import numpy as np\n",
    "import os \n",
    "pd.options.display.max_colwidth = 10000\n",
    "artists = \"artists.dat\"\n",
    "tags = \"tags.txt\"\n",
    "user_artists = \"user_artists.dat\"\n",
    "user_friends = \"user_friends.dat\"\n",
    "user_taggedartists_timestamps = \"user_taggedartists-timestamps.dat\"\n",
    "user_taggedartists = \"user_taggedartists.dat\""
   ]
  },
  {
   "cell_type": "markdown",
   "metadata": {},
   "source": [
    "**Data statistics**\n",
    "---------------\n",
    "   1892 users\n",
    "   17632 artists\n",
    "      \n",
    "   12717 bi-directional user friend relations, i.e. 25434 (user_i, user_j) pairs\n",
    "         avg. 13.443 friend relations per user\n",
    "         \n",
    "   92834 user-listened artist relations, i.e. tuples [user, artist, listeningCount]\n",
    "         avg. 49.067 artists most listened by each user\n",
    "         avg. 5.265 users who listened each artist\n",
    "            \n",
    "   11946 tags  \n",
    "   \n",
    "  186479 tag assignments (tas), i.e. tuples [user, tag, artist]\n",
    "         avg. 98.562 tas per user\n",
    "         avg. 14.891 tas per artist\n",
    "         avg. 18.930 distinct tags used by each user\n",
    "         avg. 8.764 distinct tags used for each artist\n",
    "\n",
    "**Files**\n",
    "----- \n",
    "   * artists.dat\n",
    "   \n",
    "    This file contains information about music artists listened and tagged by the users.\n",
    "   \n",
    "   * tags.dat\n",
    "   \n",
    "   \tThis file contains the set of tags available in the dataset.\n",
    "\n",
    "   * user_artists.dat\n",
    "   \n",
    "        This file contains the artists listened by each user.\n",
    "        \n",
    "        It also provides a listening count for each [user, artist] pair.\n",
    "\n",
    "   * user_taggedartists.dat - user_taggedartists-timestamps.dat\n",
    "   \n",
    "        These files contain the tag assignments of artists provided by each particular user.\n",
    "        \n",
    "        They also contain the timestamps when the tag assignments were done.\n",
    "   \n",
    "   * user_friends.dat\n",
    "   \n",
    "   \tThese files contain the friend relations between users in the database.\n",
    "     "
   ]
  },
  {
   "cell_type": "code",
   "execution_count": null,
   "metadata": {
    "collapsed": false
   },
   "outputs": [],
   "source": [
    "print(pd.read_table(user_artists).head())\n",
    "print(\"---------------------------------\")\n",
    "print(pd.read_table(user_taggedartists).head())\n",
    "print(\"---------------------------------\")\n",
    "print(pd.read_table(tags,encoding = \"utf-8\").head())\n",
    "print(\"---------------------------------\")\n",
    "print(pd.read_table(user_friends).head())\n",
    "print(\"---------------------------------\")\n",
    "print(pd.read_table(artists).head())\n",
    "print(\"---------------------------------\")\n",
    "#print(pd.read_table(user_taggedartists_timestamps).head()) #don't need timestamps"
   ]
  },
  {
   "cell_type": "code",
   "execution_count": null,
   "metadata": {
    "collapsed": false
   },
   "outputs": [],
   "source": [
    "t = pd.read_table(user_taggedartists)\n",
    "t[t.artistID == 995]"
   ]
  },
  {
   "cell_type": "code",
   "execution_count": null,
   "metadata": {
    "collapsed": false
   },
   "outputs": [],
   "source": [
    "#Setting a total table of merge 2 sub tables\n",
    "total_table = pd.read_table(user_taggedartists)\n",
    "user_artists_df = pd.read_table(user_artists)\n",
    "tags_df = pd.read_table(tags,encoding = \"utf-8\")\n",
    "user_friends_df = pd.read_table(user_friends)\n",
    "\n",
    "total_table.drop([\"day\",\"month\",\"year\"],axis = 1,inplace = True)\n",
    "total_table = pd.merge(total_table,tags_df,on = \"tagID\")\n",
    "\n",
    "def fun(word):\n",
    "    word = \"%s\" % ' '.join(word)\n",
    "    return word\n",
    "\n",
    "artist_tags = total_table.groupby(\"artistID\")[\"tagValue\"].apply(fun)\n",
    "\n",
    "list_word = []\n",
    "for i in artist_tags[0:]:\n",
    "    list_word.append(list(set(str.split(i))))\n",
    "    \n",
    "new_artist_tags = list(map(\" \".join,list_word))\n",
    "artist_tags_df = pd.DataFrame(artist_tags)\n",
    "artist_tags_df[\"tagValue\"] = new_artist_tags"
   ]
  },
  {
   "cell_type": "code",
   "execution_count": null,
   "metadata": {
    "collapsed": false
   },
   "outputs": [],
   "source": [
    "total_table[total_table.artistID == 995]"
   ]
  },
  {
   "cell_type": "code",
   "execution_count": null,
   "metadata": {
    "collapsed": false
   },
   "outputs": [],
   "source": [
    "#artist_tags_df.head()\n",
    "artist_tags_df['artistID'] = artist_tags_df.index\n",
    "total_table = total_table.drop(\"tagValue\",axis = 1)\n",
    "total_table = pd.merge(artist_tags_df,total_table,how = \"left\")\n",
    "total_table = total_table[[\"userID\",\"artistID\",\"tagID\",\"tagValue\"]]"
   ]
  },
  {
   "cell_type": "code",
   "execution_count": null,
   "metadata": {
    "collapsed": false
   },
   "outputs": [],
   "source": [
    "#total_table = pd.merge(total_table,user_artists_df,how=\"left\") #如果需要weight的数据，再去并\n",
    "#total_table = pd.merge(total_table,user_friends_df,how=\"left\") #如果需要friend的数据，再去并"
   ]
  },
  {
   "cell_type": "code",
   "execution_count": null,
   "metadata": {
    "collapsed": false
   },
   "outputs": [],
   "source": [
    "total_table.head() ##最终总表"
   ]
  },
  {
   "cell_type": "code",
   "execution_count": null,
   "metadata": {
    "collapsed": false
   },
   "outputs": [],
   "source": [
    "'''\n",
    "#total_table.tagID\n",
    "list_str = list(map(str,total_table.tagID))\n",
    "tagID_df = pd.DataFrame(total_table.tagID)\n",
    "tagID_df[\"str\"] = list_str\n",
    "'''"
   ]
  },
  {
   "cell_type": "code",
   "execution_count": null,
   "metadata": {
    "collapsed": false
   },
   "outputs": [],
   "source": [
    "total_table_c = total_table.drop_duplicates(subset = [\"userID\",\"artistID\",\"tagValue\"])"
   ]
  },
  {
   "cell_type": "code",
   "execution_count": null,
   "metadata": {
    "collapsed": false
   },
   "outputs": [],
   "source": [
    "if __name__ == '__main__':\n",
    "    total_table_c.drop(\"tagID\",axis = 1,inplace = True)"
   ]
  },
  {
   "cell_type": "code",
   "execution_count": null,
   "metadata": {
    "collapsed": false
   },
   "outputs": [],
   "source": [
    "total_table_c.head()"
   ]
  },
  {
   "cell_type": "code",
   "execution_count": null,
   "metadata": {
    "collapsed": true
   },
   "outputs": [],
   "source": [
    "total_table = pd.merge(total_table_c,user_artists_df,how=\"left\") #如果需要weight的数据，再去并\n",
    "total_table = pd.merge(total_table_c,user_friends_df,how=\"left\") #如果需要friend的数据，再去并"
   ]
  },
  {
   "cell_type": "code",
   "execution_count": null,
   "metadata": {
    "collapsed": false
   },
   "outputs": [],
   "source": [
    "print(total_table_c[total_table_c.artistID == 2].tagValue)"
   ]
  },
  {
   "cell_type": "markdown",
   "metadata": {},
   "source": [
    "##### 方法1: 相似度评价 人和人之间的余弦值"
   ]
  },
  {
   "cell_type": "code",
   "execution_count": null,
   "metadata": {
    "collapsed": false
   },
   "outputs": [],
   "source": [
    "total_table_c.head()\n",
    "total_table_c[total_table_c.userID == 2]\n",
    "all_tags = total_table_c.groupby(\"userID\").tagValue.sum()"
   ]
  },
  {
   "cell_type": "code",
   "execution_count": null,
   "metadata": {
    "collapsed": false
   },
   "outputs": [],
   "source": [
    "total_table_d = pd.DataFrame(all_tags)\n",
    "total_table_d[\"userID\"] = total_table_d.index"
   ]
  },
  {
   "cell_type": "code",
   "execution_count": null,
   "metadata": {
    "collapsed": false
   },
   "outputs": [],
   "source": [
    "from sklearn.feature_extraction.text import TfidfVectorizer\n",
    "from sklearn.metrics.pairwise import linear_kernel\n",
    "from sklearn.metrics.pairwise import cosine_similarity\n",
    "\n",
    "tf = TfidfVectorizer(ngram_range = (1,3),stop_words = 'english')\n",
    "dtm = tf.fit_transform(total_table_d.tagValue)"
   ]
  },
  {
   "cell_type": "code",
   "execution_count": null,
   "metadata": {
    "collapsed": false
   },
   "outputs": [],
   "source": [
    "from scipy.sparse.linalg import svds\n",
    "u1,s1,vt1 = svds(dtm , k = 500)\n",
    "u1.shape, s1.shape, vt1.shape"
   ]
  },
  {
   "cell_type": "code",
   "execution_count": null,
   "metadata": {
    "collapsed": false
   },
   "outputs": [],
   "source": [
    "pred = cosine_similarity(u1)\n",
    "print(pred[0,].argsort())\n",
    "total_table_d = total_table_d.reset_index(drop=True)"
   ]
  },
  {
   "cell_type": "code",
   "execution_count": null,
   "metadata": {
    "collapsed": false
   },
   "outputs": [],
   "source": [
    "total_table_d"
   ]
  },
  {
   "cell_type": "code",
   "execution_count": null,
   "metadata": {
    "collapsed": false
   },
   "outputs": [],
   "source": [
    "a = str(total_table_d[total_table_d.index == 0]['tagValue'])\n",
    "b = str(total_table_d[total_table_d.index == 185]['tagValue'])"
   ]
  },
  {
   "cell_type": "code",
   "execution_count": null,
   "metadata": {
    "collapsed": false
   },
   "outputs": [],
   "source": [
    "a_l = str.split(a)\n",
    "b_l = str.split(b)"
   ]
  },
  {
   "cell_type": "code",
   "execution_count": null,
   "metadata": {
    "collapsed": false
   },
   "outputs": [],
   "source": [
    "len(list(set(a_l).intersection(set(b_l))))"
   ]
  },
  {
   "cell_type": "code",
   "execution_count": null,
   "metadata": {
    "collapsed": false
   },
   "outputs": [],
   "source": [
    "print(a)\n",
    "print(b)"
   ]
  },
  {
   "cell_type": "markdown",
   "metadata": {},
   "source": [
    "##### 因为标签太杂，所以这种办法，被评价为太随意\n",
    "##### 但我也没有分数，没法加权去用sim矩阵乘以评分向量，得到一个加权的东西"
   ]
  },
  {
   "cell_type": "code",
   "execution_count": null,
   "metadata": {
    "collapsed": true
   },
   "outputs": [],
   "source": []
  },
  {
   "cell_type": "markdown",
   "metadata": {},
   "source": [
    "##### 仅仅根据用户和艺术家的对应关系，来评价"
   ]
  },
  {
   "cell_type": "code",
   "execution_count": null,
   "metadata": {
    "collapsed": false
   },
   "outputs": [],
   "source": [
    "total_table_c[\"like\"] = 1.00"
   ]
  },
  {
   "cell_type": "code",
   "execution_count": null,
   "metadata": {
    "collapsed": false
   },
   "outputs": [],
   "source": [
    "total_table_c\n",
    "###sim = linear_kernel(dtm)\n",
    "from scipy.sparse import csc_matrix\n",
    "m = csc_matrix((total_table_c.like,(total_table_c.userID,total_table_c.artistID)))\n",
    "m"
   ]
  },
  {
   "cell_type": "code",
   "execution_count": null,
   "metadata": {
    "collapsed": false
   },
   "outputs": [],
   "source": [
    "from scipy.sparse.linalg import svds\n",
    "u,s,vt = svds(m , k = 20)\n",
    "u.shape, s.shape, vt.shape"
   ]
  },
  {
   "cell_type": "code",
   "execution_count": null,
   "metadata": {
    "collapsed": true
   },
   "outputs": [],
   "source": [
    "highest = np.argsort(vt[0,:])[-5:]\n",
    "total_table_c[total_table_c.artistID.isin(highest)]\n",
    "pred = np.dot(np.dot(u, np .diag(s)), vt)"
   ]
  },
  {
   "cell_type": "code",
   "execution_count": null,
   "metadata": {
    "collapsed": false
   },
   "outputs": [],
   "source": [
    "pred"
   ]
  },
  {
   "cell_type": "code",
   "execution_count": null,
   "metadata": {
    "collapsed": false
   },
   "outputs": [],
   "source": [
    "recommended = np.argsort(pred[461, :])[-5:]\n",
    "#total_table_c[total_table_c.artistID.isin(recommended)].artistID."
   ]
  },
  {
   "cell_type": "code",
   "execution_count": null,
   "metadata": {
    "collapsed": false
   },
   "outputs": [],
   "source": [
    "have_pay_attention = np.array(total_table_c[total_table_c.userID == 461].artistID)"
   ]
  },
  {
   "cell_type": "code",
   "execution_count": null,
   "metadata": {
    "collapsed": false
   },
   "outputs": [],
   "source": [
    "list(set(recommended).difference(set(have_pay_attention)))\n",
    "list(set(b).difference(set(a))) "
   ]
  },
  {
   "cell_type": "code",
   "execution_count": null,
   "metadata": {
    "collapsed": true
   },
   "outputs": [],
   "source": []
  },
  {
   "cell_type": "code",
   "execution_count": null,
   "metadata": {
    "collapsed": true
   },
   "outputs": [],
   "source": []
  }
 ],
 "metadata": {
  "kernelspec": {
   "display_name": "Python 3",
   "language": "python",
   "name": "python3"
  },
  "language_info": {
   "codemirror_mode": {
    "name": "ipython",
    "version": 3
   },
   "file_extension": ".py",
   "mimetype": "text/x-python",
   "name": "python",
   "nbconvert_exporter": "python",
   "pygments_lexer": "ipython3",
   "version": "3.6.0"
  }
 },
 "nbformat": 4,
 "nbformat_minor": 2
}
