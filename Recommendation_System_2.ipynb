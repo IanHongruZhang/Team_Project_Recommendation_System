{
 "cells": [
  {
   "cell_type": "code",
   "execution_count": 2,
   "metadata": {
    "collapsed": false
   },
   "outputs": [
    {
     "data": {
      "text/html": [
       "<div>\n",
       "<table border=\"1\" class=\"dataframe\">\n",
       "  <thead>\n",
       "    <tr style=\"text-align: right;\">\n",
       "      <th></th>\n",
       "      <th>brand</th>\n",
       "      <th>categories</th>\n",
       "      <th>description</th>\n",
       "      <th>imUrl</th>\n",
       "      <th>price</th>\n",
       "      <th>related</th>\n",
       "      <th>salesRank</th>\n",
       "      <th>title</th>\n",
       "      <th>overall</th>\n",
       "    </tr>\n",
       "    <tr>\n",
       "      <th>asin</th>\n",
       "      <th></th>\n",
       "      <th></th>\n",
       "      <th></th>\n",
       "      <th></th>\n",
       "      <th></th>\n",
       "      <th></th>\n",
       "      <th></th>\n",
       "      <th></th>\n",
       "      <th></th>\n",
       "    </tr>\n",
       "  </thead>\n",
       "  <tbody>\n",
       "    <tr>\n",
       "      <th>B000HDJXLW</th>\n",
       "      <td>Muir Glen</td>\n",
       "      <td>[[Grocery &amp; Gourmet Food]]</td>\n",
       "      <td></td>\n",
       "      <td>http://ecx.images-amazon.com/images/I/51SPGYND...</td>\n",
       "      <td>31.00</td>\n",
       "      <td>{'also_bought': ['B000LKZ9Q4', 'B000LKXFMO', '...</td>\n",
       "      <td>{'Grocery &amp; Gourmet Food': 3429}</td>\n",
       "      <td>Muir Glen Organic Diced Tomatoes, No Salt, 14....</td>\n",
       "      <td>3.0</td>\n",
       "    </tr>\n",
       "    <tr>\n",
       "      <th>B000LKXRNQ</th>\n",
       "      <td>Vita Coco</td>\n",
       "      <td>[[Grocery &amp; Gourmet Food]]</td>\n",
       "      <td>The Vita Coco brand launched in 2004 and was i...</td>\n",
       "      <td>http://ecx.images-amazon.com/images/I/41yCAH%2...</td>\n",
       "      <td>19.99</td>\n",
       "      <td>{'also_bought': ['B00CIX6P1U', 'B008JKU2CO', '...</td>\n",
       "      <td>{'Grocery &amp; Gourmet Food': 312}</td>\n",
       "      <td>Vita Coco Coconut Water with Pineapple, 11.1-O...</td>\n",
       "      <td>4.0</td>\n",
       "    </tr>\n",
       "    <tr>\n",
       "      <th>B000LKZ9KK</th>\n",
       "      <td>Muir Glen</td>\n",
       "      <td>[[Grocery &amp; Gourmet Food]]</td>\n",
       "      <td></td>\n",
       "      <td>http://ecx.images-amazon.com/images/I/51pLCmCW...</td>\n",
       "      <td>22.99</td>\n",
       "      <td>{'also_bought': ['B000LKXG64', 'B000LKXFMO', '...</td>\n",
       "      <td>{'Grocery &amp; Gourmet Food': 4654}</td>\n",
       "      <td>Muir Glen Organic Tomatoes, Diced, 14.5-Ounce ...</td>\n",
       "      <td>4.0</td>\n",
       "    </tr>\n",
       "    <tr>\n",
       "      <th>B001SB4YPC</th>\n",
       "      <td>WEL PAC</td>\n",
       "      <td>[[Grocery &amp; Gourmet Food]]</td>\n",
       "      <td>Wel Pac Noodles Yokogiri Udon is the smoothest...</td>\n",
       "      <td>http://ecx.images-amazon.com/images/I/416Er3CN...</td>\n",
       "      <td>19.50</td>\n",
       "      <td>{'also_bought': ['B007W0D0HQ', 'B000LKX6R8', '...</td>\n",
       "      <td>{'Grocery &amp; Gourmet Food': 71695}</td>\n",
       "      <td>Wel Pac Noodles Yokogiri Udon, 10-Ounce (Pack ...</td>\n",
       "      <td>3.0</td>\n",
       "    </tr>\n",
       "    <tr>\n",
       "      <th>B00374W630</th>\n",
       "      <td>Old El Paso</td>\n",
       "      <td>[[Grocery &amp; Gourmet Food]]</td>\n",
       "      <td>Old El Paso Fat Free Refried Beans 16 oz (Pack...</td>\n",
       "      <td>http://ecx.images-amazon.com/images/I/61a6NQWX...</td>\n",
       "      <td>30.89</td>\n",
       "      <td>{'also_bought': ['B005G2FCI2', 'B005D6E336', '...</td>\n",
       "      <td>{'Grocery &amp; Gourmet Food': 8510}</td>\n",
       "      <td>Old El Paso Refried Beans, Fat Free, 16-Ounce ...</td>\n",
       "      <td>3.0</td>\n",
       "    </tr>\n",
       "  </tbody>\n",
       "</table>\n",
       "</div>"
      ],
      "text/plain": [
       "                  brand                  categories  \\\n",
       "asin                                                  \n",
       "B000HDJXLW    Muir Glen  [[Grocery & Gourmet Food]]   \n",
       "B000LKXRNQ    Vita Coco  [[Grocery & Gourmet Food]]   \n",
       "B000LKZ9KK    Muir Glen  [[Grocery & Gourmet Food]]   \n",
       "B001SB4YPC      WEL PAC  [[Grocery & Gourmet Food]]   \n",
       "B00374W630  Old El Paso  [[Grocery & Gourmet Food]]   \n",
       "\n",
       "                                                  description  \\\n",
       "asin                                                            \n",
       "B000HDJXLW                                                      \n",
       "B000LKXRNQ  The Vita Coco brand launched in 2004 and was i...   \n",
       "B000LKZ9KK                                                      \n",
       "B001SB4YPC  Wel Pac Noodles Yokogiri Udon is the smoothest...   \n",
       "B00374W630  Old El Paso Fat Free Refried Beans 16 oz (Pack...   \n",
       "\n",
       "                                                        imUrl  price  \\\n",
       "asin                                                                   \n",
       "B000HDJXLW  http://ecx.images-amazon.com/images/I/51SPGYND...  31.00   \n",
       "B000LKXRNQ  http://ecx.images-amazon.com/images/I/41yCAH%2...  19.99   \n",
       "B000LKZ9KK  http://ecx.images-amazon.com/images/I/51pLCmCW...  22.99   \n",
       "B001SB4YPC  http://ecx.images-amazon.com/images/I/416Er3CN...  19.50   \n",
       "B00374W630  http://ecx.images-amazon.com/images/I/61a6NQWX...  30.89   \n",
       "\n",
       "                                                      related  \\\n",
       "asin                                                            \n",
       "B000HDJXLW  {'also_bought': ['B000LKZ9Q4', 'B000LKXFMO', '...   \n",
       "B000LKXRNQ  {'also_bought': ['B00CIX6P1U', 'B008JKU2CO', '...   \n",
       "B000LKZ9KK  {'also_bought': ['B000LKXG64', 'B000LKXFMO', '...   \n",
       "B001SB4YPC  {'also_bought': ['B007W0D0HQ', 'B000LKX6R8', '...   \n",
       "B00374W630  {'also_bought': ['B005G2FCI2', 'B005D6E336', '...   \n",
       "\n",
       "                                    salesRank  \\\n",
       "asin                                            \n",
       "B000HDJXLW   {'Grocery & Gourmet Food': 3429}   \n",
       "B000LKXRNQ    {'Grocery & Gourmet Food': 312}   \n",
       "B000LKZ9KK   {'Grocery & Gourmet Food': 4654}   \n",
       "B001SB4YPC  {'Grocery & Gourmet Food': 71695}   \n",
       "B00374W630   {'Grocery & Gourmet Food': 8510}   \n",
       "\n",
       "                                                        title  overall  \n",
       "asin                                                                    \n",
       "B000HDJXLW  Muir Glen Organic Diced Tomatoes, No Salt, 14....      3.0  \n",
       "B000LKXRNQ  Vita Coco Coconut Water with Pineapple, 11.1-O...      4.0  \n",
       "B000LKZ9KK  Muir Glen Organic Tomatoes, Diced, 14.5-Ounce ...      4.0  \n",
       "B001SB4YPC  Wel Pac Noodles Yokogiri Udon, 10-Ounce (Pack ...      3.0  \n",
       "B00374W630  Old El Paso Refried Beans, Fat Free, 16-Ounce ...      3.0  "
      ]
     },
     "execution_count": 2,
     "metadata": {},
     "output_type": "execute_result"
    }
   ],
   "source": [
    "import pandas as pd\n",
    "import numpy as np\n",
    "reviews = pd.read_pickle(\"reviews.pickle\")\n",
    "\n",
    "ratings = reviews[reviews.reviewerID == \"A3P51YKG3BCT4K\"][[\"asin\",\"overall\"]]\n",
    "products = pd.read_pickle(\"products.pickle\")\n",
    "products = products.join(ratings.set_index(\"asin\"))\n",
    "\n",
    "products_d = products.dropna(subset = [\"title\",\"description\"])\n",
    "products_d.dropna(subset=[\"overall\"])"
   ]
  },
  {
   "cell_type": "code",
   "execution_count": 15,
   "metadata": {
    "collapsed": false
   },
   "outputs": [
    {
     "name": "stderr",
     "output_type": "stream",
     "text": [
      "//anaconda/lib/python3.5/site-packages/ipykernel/__main__.py:11: SettingWithCopyWarning: \n",
      "A value is trying to be set on a copy of a slice from a DataFrame.\n",
      "Try using .loc[row_indexer,col_indexer] = value instead\n",
      "\n",
      "See the caveats in the documentation: http://pandas.pydata.org/pandas-docs/stable/indexing.html#indexing-view-versus-copy\n"
     ]
    }
   ],
   "source": [
    "from sklearn.feature_extraction.text import TfidfVectorizer\n",
    "from sklearn.metrics.pairwise import linear_kernel\n",
    "tf = TfidfVectorizer(stop_words=\"english\")\n",
    "dtm = tf.fit_transform(products_d.description + products_d.title)\n",
    "\n",
    "\n",
    "from sklearn.metrics.pairwise import cosine_similarity\n",
    "sim = cosine_similarity(dtm)\n",
    "sims = sim[:,np.array(products_d.overall.notnull())] #这个人选择这五个商品的similarities\n",
    "pred = sims.dot(products_d.overall.dropna())\n",
    "products_d[\"pred\"] = pred"
   ]
  },
  {
   "cell_type": "code",
   "execution_count": 23,
   "metadata": {
    "collapsed": false
   },
   "outputs": [
    {
     "data": {
      "text/plain": [
       "<8470x18835 sparse matrix of type '<class 'numpy.float64'>'\n",
       "\twith 345854 stored elements in Compressed Sparse Row format>"
      ]
     },
     "execution_count": 23,
     "metadata": {},
     "output_type": "execute_result"
    }
   ],
   "source": [
    "dtm #这个dtm表示一共有18835个特征值(词袋)，8470个items."
   ]
  },
  {
   "cell_type": "code",
   "execution_count": 35,
   "metadata": {
    "collapsed": false
   },
   "outputs": [],
   "source": [
    "profile = dtm.T.dot(products_d.overall.fillna(0))"
   ]
  },
  {
   "cell_type": "code",
   "execution_count": 36,
   "metadata": {
    "collapsed": false
   },
   "outputs": [
    {
     "data": {
      "text/plain": [
       "array([    0, 12539, 12538, ...,  5533, 11387,  7822])"
      ]
     },
     "execution_count": 36,
     "metadata": {},
     "output_type": "execute_result"
    }
   ],
   "source": [
    "profile.argsort()"
   ]
  },
  {
   "cell_type": "code",
   "execution_count": null,
   "metadata": {
    "collapsed": true
   },
   "outputs": [],
   "source": []
  }
 ],
 "metadata": {
  "kernelspec": {
   "display_name": "Python [conda root]",
   "language": "python",
   "name": "conda-root-py"
  },
  "language_info": {
   "codemirror_mode": {
    "name": "ipython",
    "version": 3
   },
   "file_extension": ".py",
   "mimetype": "text/x-python",
   "name": "python",
   "nbconvert_exporter": "python",
   "pygments_lexer": "ipython3",
   "version": "3.5.2"
  }
 },
 "nbformat": 4,
 "nbformat_minor": 2
}
