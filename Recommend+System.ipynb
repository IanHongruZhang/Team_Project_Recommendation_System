{
 "cells": [
  {
   "cell_type": "code",
   "execution_count": 1,
   "metadata": {
    "collapsed": false
   },
   "outputs": [],
   "source": [
    "import pandas as pd \n",
    "import numpy as np\n",
    "import os \n",
    "\n",
    "artists = \"artists.dat\"\n",
    "tags = \"tags.txt\"\n",
    "user_artists = \"user_artists.dat\"\n",
    "user_friends = \"user_friends.dat\"\n",
    "user_taggedartists_timestamps = \"user_taggedartists-timestamps.dat\"\n",
    "user_taggedartists = \"user_taggedartists.dat\""
   ]
  },
  {
   "cell_type": "markdown",
   "metadata": {},
   "source": [
    "**Data statistics**\n",
    "---------------\n",
    "   1892 users\n",
    "   17632 artists\n",
    "      \n",
    "   12717 bi-directional user friend relations, i.e. 25434 (user_i, user_j) pairs\n",
    "         avg. 13.443 friend relations per user\n",
    "         \n",
    "   92834 user-listened artist relations, i.e. tuples [user, artist, listeningCount]\n",
    "         avg. 49.067 artists most listened by each user\n",
    "         avg. 5.265 users who listened each artist\n",
    "            \n",
    "   11946 tags  \n",
    "   \n",
    "  186479 tag assignments (tas), i.e. tuples [user, tag, artist]\n",
    "         avg. 98.562 tas per user\n",
    "         avg. 14.891 tas per artist\n",
    "         avg. 18.930 distinct tags used by each user\n",
    "         avg. 8.764 distinct tags used for each artist\n",
    "\n",
    "**Files**\n",
    "----- \n",
    "   * artists.dat\n",
    "   \n",
    "    This file contains information about music artists listened and tagged by the users.\n",
    "   \n",
    "   * tags.dat\n",
    "   \n",
    "   \tThis file contains the set of tags available in the dataset.\n",
    "\n",
    "   * user_artists.dat\n",
    "   \n",
    "        This file contains the artists listened by each user.\n",
    "        \n",
    "        It also provides a listening count for each [user, artist] pair.\n",
    "\n",
    "   * user_taggedartists.dat - user_taggedartists-timestamps.dat\n",
    "   \n",
    "        These files contain the tag assignments of artists provided by each particular user.\n",
    "        \n",
    "        They also contain the timestamps when the tag assignments were done.\n",
    "   \n",
    "   * user_friends.dat\n",
    "   \n",
    "   \tThese files contain the friend relations between users in the database.\n",
    "     "
   ]
  },
  {
   "cell_type": "code",
   "execution_count": 2,
   "metadata": {
    "collapsed": false
   },
   "outputs": [
    {
     "name": "stdout",
     "output_type": "stream",
     "text": [
      "   userID  artistID  weight\n",
      "0       2        51   13883\n",
      "1       2        52   11690\n",
      "2       2        53   11351\n",
      "3       2        54   10300\n",
      "4       2        55    8983\n",
      "---------------------------------\n",
      "   userID  artistID  tagID  day  month  year\n",
      "0       2        52     13    1      4  2009\n",
      "1       2        52     15    1      4  2009\n",
      "2       2        52     18    1      4  2009\n",
      "3       2        52     21    1      4  2009\n",
      "4       2        52     41    1      4  2009\n",
      "---------------------------------\n",
      "   tagID           tagValue\n",
      "0      1              metal\n",
      "1      2  alternative metal\n",
      "2      3          goth rock\n",
      "3      4        black metal\n",
      "4      5        death metal\n",
      "---------------------------------\n",
      "   userID  friendID\n",
      "0       2       275\n",
      "1       2       428\n",
      "2       2       515\n",
      "3       2       761\n",
      "4       2       831\n",
      "---------------------------------\n",
      "   id               name                                         url  \\\n",
      "0   1       MALICE MIZER       http://www.last.fm/music/MALICE+MIZER   \n",
      "1   2    Diary of Dreams    http://www.last.fm/music/Diary+of+Dreams   \n",
      "2   3  Carpathian Forest  http://www.last.fm/music/Carpathian+Forest   \n",
      "3   4       Moi dix Mois       http://www.last.fm/music/Moi+dix+Mois   \n",
      "4   5        Bella Morte        http://www.last.fm/music/Bella+Morte   \n",
      "\n",
      "                                          pictureURL  \n",
      "0    http://userserve-ak.last.fm/serve/252/10808.jpg  \n",
      "1  http://userserve-ak.last.fm/serve/252/3052066.jpg  \n",
      "2  http://userserve-ak.last.fm/serve/252/40222717...  \n",
      "3  http://userserve-ak.last.fm/serve/252/54697835...  \n",
      "4  http://userserve-ak.last.fm/serve/252/14789013...  \n",
      "---------------------------------\n"
     ]
    }
   ],
   "source": [
    "print(pd.read_table(user_artists).head())\n",
    "print(\"---------------------------------\")\n",
    "print(pd.read_table(user_taggedartists).head())\n",
    "print(\"---------------------------------\")\n",
    "print(pd.read_table(tags,encoding = \"utf-8\").head())\n",
    "print(\"---------------------------------\")\n",
    "print(pd.read_table(user_friends).head())\n",
    "print(\"---------------------------------\")\n",
    "print(pd.read_table(artists).head())\n",
    "print(\"---------------------------------\")\n",
    "#print(pd.read_table(user_taggedartists_timestamps).head()) #don't need timestamps"
   ]
  },
  {
   "cell_type": "code",
   "execution_count": 3,
   "metadata": {
    "collapsed": false
   },
   "outputs": [],
   "source": [
    "#Setting a total table of merge 2 sub tables\n",
    "total_table = pd.read_table(user_taggedartists)\n",
    "user_artists_df = pd.read_table(user_artists)\n",
    "tags_df = pd.read_table(tags,encoding = \"utf-8\")\n",
    "user_friends_df = pd.read_table(user_friends)\n",
    "\n",
    "total_table.drop([\"day\",\"month\",\"year\"],axis = 1,inplace = True)\n",
    "total_table = pd.merge(total_table,tags_df,on = \"tagID\")\n",
    "\n",
    "def fun(word):\n",
    "    word = \"%s\" % ' '.join(word)\n",
    "    return word\n",
    "\n",
    "artist_tags = total_table.groupby(\"artistID\")[\"tagValue\"].apply(fun)\n",
    "\n",
    "list_word = []\n",
    "for i in artist_tags[0:]:\n",
    "    list_word.append(list(set(str.split(i))))\n",
    "    \n",
    "new_artist_tags = list(map(\" \".join,list_word))\n",
    "artist_tags_df = pd.DataFrame(artist_tags)\n",
    "artist_tags_df[\"tagValue\"] = new_artist_tags"
   ]
  },
  {
   "cell_type": "code",
   "execution_count": 4,
   "metadata": {
    "collapsed": false
   },
   "outputs": [],
   "source": [
    "#artist_tags_df.head()\n",
    "artist_tags_df['artistID'] = artist_tags_df.index\n",
    "total_table = total_table.drop(\"tagValue\",axis = 1)\n",
    "total_table = pd.merge(artist_tags_df,total_table,how = \"left\")\n",
    "total_table = total_table[[\"userID\",\"artistID\",\"tagID\",\"tagValue\"]]"
   ]
  },
  {
   "cell_type": "code",
   "execution_count": 5,
   "metadata": {
    "collapsed": false
   },
   "outputs": [],
   "source": [
    "#total_table = pd.merge(total_table,user_artists_df,how=\"left\") #如果需要weight的数据，再去并\n",
    "#total_table = pd.merge(total_table,user_friends_df,how=\"left\") #如果需要friend的数据，再去并"
   ]
  },
  {
   "cell_type": "code",
   "execution_count": 6,
   "metadata": {
    "collapsed": false
   },
   "outputs": [
    {
     "data": {
      "text/html": [
       "<div>\n",
       "<table border=\"1\" class=\"dataframe\">\n",
       "  <thead>\n",
       "    <tr style=\"text-align: right;\">\n",
       "      <th></th>\n",
       "      <th>userID</th>\n",
       "      <th>artistID</th>\n",
       "      <th>tagID</th>\n",
       "      <th>tagValue</th>\n",
       "    </tr>\n",
       "  </thead>\n",
       "  <tbody>\n",
       "    <tr>\n",
       "      <th>0</th>\n",
       "      <td>681</td>\n",
       "      <td>1</td>\n",
       "      <td>139</td>\n",
       "      <td>gaga gothic lady japanese visual weeabo j-rock...</td>\n",
       "    </tr>\n",
       "    <tr>\n",
       "      <th>1</th>\n",
       "      <td>1545</td>\n",
       "      <td>1</td>\n",
       "      <td>139</td>\n",
       "      <td>gaga gothic lady japanese visual weeabo j-rock...</td>\n",
       "    </tr>\n",
       "    <tr>\n",
       "      <th>2</th>\n",
       "      <td>1730</td>\n",
       "      <td>1</td>\n",
       "      <td>139</td>\n",
       "      <td>gaga gothic lady japanese visual weeabo j-rock...</td>\n",
       "    </tr>\n",
       "    <tr>\n",
       "      <th>3</th>\n",
       "      <td>1929</td>\n",
       "      <td>1</td>\n",
       "      <td>139</td>\n",
       "      <td>gaga gothic lady japanese visual weeabo j-rock...</td>\n",
       "    </tr>\n",
       "    <tr>\n",
       "      <th>4</th>\n",
       "      <td>1984</td>\n",
       "      <td>1</td>\n",
       "      <td>139</td>\n",
       "      <td>gaga gothic lady japanese visual weeabo j-rock...</td>\n",
       "    </tr>\n",
       "  </tbody>\n",
       "</table>\n",
       "</div>"
      ],
      "text/plain": [
       "   userID  artistID  tagID                                           tagValue\n",
       "0     681         1    139  gaga gothic lady japanese visual weeabo j-rock...\n",
       "1    1545         1    139  gaga gothic lady japanese visual weeabo j-rock...\n",
       "2    1730         1    139  gaga gothic lady japanese visual weeabo j-rock...\n",
       "3    1929         1    139  gaga gothic lady japanese visual weeabo j-rock...\n",
       "4    1984         1    139  gaga gothic lady japanese visual weeabo j-rock..."
      ]
     },
     "execution_count": 6,
     "metadata": {},
     "output_type": "execute_result"
    }
   ],
   "source": [
    "total_table.head() ##最终总表"
   ]
  },
  {
   "cell_type": "code",
   "execution_count": 7,
   "metadata": {
    "collapsed": false
   },
   "outputs": [
    {
     "data": {
      "text/plain": [
       "'\\n#total_table.tagID\\nlist_str = list(map(str,total_table.tagID))\\ntagID_df = pd.DataFrame(total_table.tagID)\\ntagID_df[\"str\"] = list_str\\n'"
      ]
     },
     "execution_count": 7,
     "metadata": {},
     "output_type": "execute_result"
    }
   ],
   "source": [
    "'''\n",
    "#total_table.tagID\n",
    "list_str = list(map(str,total_table.tagID))\n",
    "tagID_df = pd.DataFrame(total_table.tagID)\n",
    "tagID_df[\"str\"] = list_str\n",
    "'''"
   ]
  },
  {
   "cell_type": "code",
   "execution_count": 8,
   "metadata": {
    "collapsed": false
   },
   "outputs": [],
   "source": [
    "total_table_c = total_table.drop_duplicates(subset = [\"userID\",\"artistID\",\"tagValue\"])"
   ]
  },
  {
   "cell_type": "code",
   "execution_count": 9,
   "metadata": {
    "collapsed": false
   },
   "outputs": [
    {
     "name": "stderr",
     "output_type": "stream",
     "text": [
      "//anaconda/lib/python3.5/site-packages/ipykernel/__main__.py:2: SettingWithCopyWarning: \n",
      "A value is trying to be set on a copy of a slice from a DataFrame\n",
      "\n",
      "See the caveats in the documentation: http://pandas.pydata.org/pandas-docs/stable/indexing.html#indexing-view-versus-copy\n",
      "  from ipykernel import kernelapp as app\n"
     ]
    }
   ],
   "source": [
    "if __name__ == '__main__':\n",
    "    total_table_c.drop(\"tagID\",axis = 1,inplace = True)"
   ]
  },
  {
   "cell_type": "code",
   "execution_count": 10,
   "metadata": {
    "collapsed": false
   },
   "outputs": [
    {
     "data": {
      "text/html": [
       "<div>\n",
       "<table border=\"1\" class=\"dataframe\">\n",
       "  <thead>\n",
       "    <tr style=\"text-align: right;\">\n",
       "      <th></th>\n",
       "      <th>userID</th>\n",
       "      <th>artistID</th>\n",
       "      <th>tagValue</th>\n",
       "    </tr>\n",
       "  </thead>\n",
       "  <tbody>\n",
       "    <tr>\n",
       "      <th>0</th>\n",
       "      <td>681</td>\n",
       "      <td>1</td>\n",
       "      <td>gaga gothic lady japanese visual weeabo j-rock...</td>\n",
       "    </tr>\n",
       "    <tr>\n",
       "      <th>1</th>\n",
       "      <td>1545</td>\n",
       "      <td>1</td>\n",
       "      <td>gaga gothic lady japanese visual weeabo j-rock...</td>\n",
       "    </tr>\n",
       "    <tr>\n",
       "      <th>2</th>\n",
       "      <td>1730</td>\n",
       "      <td>1</td>\n",
       "      <td>gaga gothic lady japanese visual weeabo j-rock...</td>\n",
       "    </tr>\n",
       "    <tr>\n",
       "      <th>3</th>\n",
       "      <td>1929</td>\n",
       "      <td>1</td>\n",
       "      <td>gaga gothic lady japanese visual weeabo j-rock...</td>\n",
       "    </tr>\n",
       "    <tr>\n",
       "      <th>4</th>\n",
       "      <td>1984</td>\n",
       "      <td>1</td>\n",
       "      <td>gaga gothic lady japanese visual weeabo j-rock...</td>\n",
       "    </tr>\n",
       "  </tbody>\n",
       "</table>\n",
       "</div>"
      ],
      "text/plain": [
       "   userID  artistID                                           tagValue\n",
       "0     681         1  gaga gothic lady japanese visual weeabo j-rock...\n",
       "1    1545         1  gaga gothic lady japanese visual weeabo j-rock...\n",
       "2    1730         1  gaga gothic lady japanese visual weeabo j-rock...\n",
       "3    1929         1  gaga gothic lady japanese visual weeabo j-rock...\n",
       "4    1984         1  gaga gothic lady japanese visual weeabo j-rock..."
      ]
     },
     "execution_count": 10,
     "metadata": {},
     "output_type": "execute_result"
    }
   ],
   "source": [
    "total_table_c.head()"
   ]
  },
  {
   "cell_type": "code",
   "execution_count": 11,
   "metadata": {
    "collapsed": true
   },
   "outputs": [],
   "source": [
    "total_table = pd.merge(total_table_c,user_artists_df,how=\"left\") #如果需要weight的数据，再去并\n",
    "total_table = pd.merge(total_table_c,user_friends_df,how=\"left\") #如果需要friend的数据，再去并"
   ]
  },
  {
   "cell_type": "code",
   "execution_count": 35,
   "metadata": {
    "collapsed": false
   },
   "outputs": [
    {
     "name": "stdout",
     "output_type": "stream",
     "text": [
      "15    vocal industrial german gothic true goth rock ...\n",
      "16    vocal industrial german gothic true goth rock ...\n",
      "17    vocal industrial german gothic true goth rock ...\n",
      "20    vocal industrial german gothic true goth rock ...\n",
      "21    vocal industrial german gothic true goth rock ...\n",
      "23    vocal industrial german gothic true goth rock ...\n",
      "24    vocal industrial german gothic true goth rock ...\n",
      "26    vocal industrial german gothic true goth rock ...\n",
      "29    vocal industrial german gothic true goth rock ...\n",
      "36    vocal industrial german gothic true goth rock ...\n",
      "37    vocal industrial german gothic true goth rock ...\n",
      "41    vocal industrial german gothic true goth rock ...\n",
      "Name: tagValue, dtype: object\n"
     ]
    }
   ],
   "source": [
    "print(total_table_c[total_table_c.artistID == 2].tagValue)"
   ]
  },
  {
   "cell_type": "markdown",
   "metadata": {},
   "source": [
    "#### 相似度评价"
   ]
  },
  {
   "cell_type": "code",
   "execution_count": 13,
   "metadata": {
    "collapsed": false
   },
   "outputs": [
    {
     "data": {
      "text/html": [
       "<div>\n",
       "<table border=\"1\" class=\"dataframe\">\n",
       "  <thead>\n",
       "    <tr style=\"text-align: right;\">\n",
       "      <th></th>\n",
       "      <th>userID</th>\n",
       "      <th>artistID</th>\n",
       "      <th>tagValue</th>\n",
       "    </tr>\n",
       "  </thead>\n",
       "  <tbody>\n",
       "    <tr>\n",
       "      <th>0</th>\n",
       "      <td>681</td>\n",
       "      <td>1</td>\n",
       "      <td>gaga gothic lady japanese visual weeabo j-rock...</td>\n",
       "    </tr>\n",
       "    <tr>\n",
       "      <th>1</th>\n",
       "      <td>1545</td>\n",
       "      <td>1</td>\n",
       "      <td>gaga gothic lady japanese visual weeabo j-rock...</td>\n",
       "    </tr>\n",
       "    <tr>\n",
       "      <th>2</th>\n",
       "      <td>1730</td>\n",
       "      <td>1</td>\n",
       "      <td>gaga gothic lady japanese visual weeabo j-rock...</td>\n",
       "    </tr>\n",
       "    <tr>\n",
       "      <th>3</th>\n",
       "      <td>1929</td>\n",
       "      <td>1</td>\n",
       "      <td>gaga gothic lady japanese visual weeabo j-rock...</td>\n",
       "    </tr>\n",
       "    <tr>\n",
       "      <th>4</th>\n",
       "      <td>1984</td>\n",
       "      <td>1</td>\n",
       "      <td>gaga gothic lady japanese visual weeabo j-rock...</td>\n",
       "    </tr>\n",
       "  </tbody>\n",
       "</table>\n",
       "</div>"
      ],
      "text/plain": [
       "   userID  artistID                                           tagValue\n",
       "0     681         1  gaga gothic lady japanese visual weeabo j-rock...\n",
       "1    1545         1  gaga gothic lady japanese visual weeabo j-rock...\n",
       "2    1730         1  gaga gothic lady japanese visual weeabo j-rock...\n",
       "3    1929         1  gaga gothic lady japanese visual weeabo j-rock...\n",
       "4    1984         1  gaga gothic lady japanese visual weeabo j-rock..."
      ]
     },
     "execution_count": 13,
     "metadata": {},
     "output_type": "execute_result"
    }
   ],
   "source": [
    "total_table_c.head()"
   ]
  },
  {
   "cell_type": "code",
   "execution_count": 14,
   "metadata": {
    "collapsed": false
   },
   "outputs": [],
   "source": [
    "from sklearn.feature_extraction.text import TfidfVectorizer\n",
    "from sklearn.metrics.pairwise import linear_kernel\n",
    "\n",
    "tf = TfidfVectorizer(ngram_range = (1,3),stop_words = 'english')\n",
    "dtm = tf.fit_transform(total_table_c.tagValue)"
   ]
  },
  {
   "cell_type": "code",
   "execution_count": 26,
   "metadata": {
    "collapsed": false
   },
   "outputs": [
    {
     "data": {
      "text/plain": [
       "array([[ 0.00055041]])"
      ]
     },
     "execution_count": 26,
     "metadata": {},
     "output_type": "execute_result"
    }
   ],
   "source": [
    "from sklearn.metrics.pairwise import cosine_similarity\n",
    "cosine_similarity(dtm[0,0:],dtm[10000,0:])"
   ]
  },
  {
   "cell_type": "code",
   "execution_count": 15,
   "metadata": {
    "collapsed": false
   },
   "outputs": [],
   "source": [
    "###sim = linear_kernel(dtm)"
   ]
  },
  {
   "cell_type": "code",
   "execution_count": 16,
   "metadata": {
    "collapsed": true
   },
   "outputs": [],
   "source": [
    "#from sklearn.metrics.pairwise import cosine_similarity\n",
    "#sim = cosine_similarity(dtm)"
   ]
  },
  {
   "cell_type": "code",
   "execution_count": null,
   "metadata": {
    "collapsed": true
   },
   "outputs": [],
   "source": []
  }
 ],
 "metadata": {
  "kernelspec": {
   "display_name": "Python [default]",
   "language": "python",
   "name": "python3"
  },
  "language_info": {
   "codemirror_mode": {
    "name": "ipython",
    "version": 3
   },
   "file_extension": ".py",
   "mimetype": "text/x-python",
   "name": "python",
   "nbconvert_exporter": "python",
   "pygments_lexer": "ipython3",
   "version": "3.5.2"
  }
 },
 "nbformat": 4,
 "nbformat_minor": 2
}
